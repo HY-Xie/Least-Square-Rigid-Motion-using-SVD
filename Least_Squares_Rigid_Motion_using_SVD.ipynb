{
 "cells": [
  {
   "cell_type": "markdown",
   "metadata": {},
   "source": [
    "\n",
    "运行环境: Python36_Computing  \n",
    "内容： 实验 Least Square Rigid Motion using SVD  \n",
    "准备简单实验数据  \n",
    "1. 为了简单明了的验证，生成一个简单的正方形“点云” （0,0,0）,（1,0,0), (1,1,0), (0,1,0) 用一个3x4 的矩阵表示\n",
    "2. 利用算转矩阵和平移矩阵，将P逆时针旋转45度，向x正方向平移2\n",
    "\n",
    "来自Paper：Sorkine-Hornung, O., Rabinovich, M.: Least-squares rigid motion using svd. no. 3, 1–5 (2017)\n",
    "\n"
   ]
  },
  {
   "cell_type": "code",
   "execution_count": 1,
   "metadata": {},
   "outputs": [],
   "source": [
    "import numpy as np"
   ]
  },
  {
   "cell_type": "code",
   "execution_count": 2,
   "metadata": {},
   "outputs": [
    {
     "name": "stdout",
     "output_type": "stream",
     "text": [
      "Radian: 0.785\n"
     ]
    }
   ],
   "source": [
    "# 给定旋转角度\n",
    "theta = 45\n",
    "theta = (theta / 180.0) * np.pi\n",
    "print(\"Radian: %.3f\" % theta)"
   ]
  },
  {
   "cell_type": "code",
   "execution_count": 3,
   "metadata": {},
   "outputs": [],
   "source": [
    "# 点云P\n",
    "P = np.array([ [0, 0, 0],\n",
    "               [1, 0, 0],\n",
    "               [1, 1, 0],\n",
    "               [0, 1, 0]])\n",
    "P = P.T  # 变为列矩阵 ！！！！\n",
    "\n",
    "real_rotation = np.array([ [np.cos(theta), -np.sin(theta), 0],\n",
    "                           [np.sin(theta), np.cos(theta), 0],\n",
    "                           [0, 0,1]\n",
    "                           ])\n",
    "\n",
    "real_t = np.array([2,0,0]).reshape(3,1)\n",
    "Q = np.around(np.dot(real_rotation, P)) + real_t  # 由于P用列矩阵表示，这里的矩阵乘法很方便"
   ]
  },
  {
   "cell_type": "markdown",
   "metadata": {},
   "source": [
    "## 1. 计算$\\overline{p} 和 \\overline{q}$\n",
    "$$\\overline{p} = \\frac{\\Sigma_{i=1}^{n}w_ip_i}{\\Sigma_{i=1}^{n}w_i}$$  \n",
    "$$\\overline{q} = \\frac{\\Sigma_{i=1}^{n}w_iq_i}{\\Sigma_{i=1}^{n}w_i}$$"
   ]
  },
  {
   "cell_type": "code",
   "execution_count": 4,
   "metadata": {},
   "outputs": [],
   "source": [
    "def compute_centroid(X):\n",
    "    centroid = np.zeros(3).reshape(3,1)\n",
    "    for i in range(X.shape[1]):\n",
    "        centroid += X[:, i].reshape(3,1)\n",
    "    centroid = centroid / X.shape[1]\n",
    "    return centroid\n",
    "\n",
    "p_centroid = compute_centroid(P)\n",
    "q_centroid = compute_centroid(Q)"
   ]
  },
  {
   "cell_type": "markdown",
   "metadata": {},
   "source": [
    "## 2. 计算中心向量(centered vectors)\n",
    "$$x_i := p_i - \\overline{p}, \\qquad y_i := q_i - \\overline{q}, \\qquad i=1,2,\\ldots,n$$"
   ]
  },
  {
   "cell_type": "code",
   "execution_count": 5,
   "metadata": {},
   "outputs": [],
   "source": [
    "# 矩阵表示\n",
    "X = P-p_centroid\n",
    "Y = Q-q_centroid"
   ]
  },
  {
   "cell_type": "markdown",
   "metadata": {},
   "source": [
    "## 3. 计算$d\\times d$的协方差矩阵(covariance matrix)\n",
    "$$S = XWY^T$$\n",
    "$X$ 和 $Y$ 的维度是 $d\\times n$, $W=diag(w_1, w_2, \\ldots, w_n)$. 这里$n=4$.\n"
   ]
  },
  {
   "cell_type": "code",
   "execution_count": 6,
   "metadata": {},
   "outputs": [],
   "source": [
    "W = np.identity(4) * 0.25  # 权重设置，因为这里实验中总共有4个点，所以直接平均了，每个点的权重是0.25\n",
    "S = np.dot(np.dot(X,W), Y.T)"
   ]
  },
  {
   "cell_type": "markdown",
   "metadata": {},
   "source": [
    "## 4. 对S做奇异值分解（SVD）得到$S=U\\Sigma V^T$\n",
    "则旋转矩阵为：\n",
    "$$\\begin{equation}\n",
    "R\n",
    "=V\\begin{bmatrix}\n",
    "1  &     &  \\ & \\\\\n",
    "   &  1  &  \\ &  \\\\\n",
    "     &   &    &    \\\\\n",
    "   &    &  \\ & det(VU^{T})\\\\\n",
    "\\end{bmatrix}\n",
    "U^T\n",
    "\\end{equation}\n",
    "$$\n"
   ]
  },
  {
   "cell_type": "code",
   "execution_count": 7,
   "metadata": {},
   "outputs": [
    {
     "name": "stdout",
     "output_type": "stream",
     "text": [
      "计算得到的旋转矩阵\n",
      "[[ 0.70710678 -0.70710678  0.        ]\n",
      " [ 0.70710678  0.70710678  0.        ]\n",
      " [ 0.          0.          1.        ]]\n",
      "真实旋转矩阵\n",
      "[[ 0.70710678 -0.70710678  0.        ]\n",
      " [ 0.70710678  0.70710678  0.        ]\n",
      " [ 0.          0.          1.        ]]\n"
     ]
    }
   ],
   "source": [
    "u, s, vh = np.linalg.svd(S, full_matrices=False)\n",
    "\n",
    "C = np.identity(3)\n",
    "C[-1,-1] = np.linalg.det(np.dot(vh,u.T))\n",
    "\n",
    "R = np.dot(np.dot(vh,C),u.T)\n",
    "print(\"计算得到的旋转矩阵\")\n",
    "print(R)\n",
    "print(\"真实旋转矩阵\")\n",
    "print(real_rotation)"
   ]
  },
  {
   "cell_type": "markdown",
   "metadata": {},
   "source": [
    "## 5.计算平移向量 $t$\n",
    "$$t=\\overline{q} - R\\overline{p}$$"
   ]
  },
  {
   "cell_type": "code",
   "execution_count": 8,
   "metadata": {},
   "outputs": [
    {
     "name": "stdout",
     "output_type": "stream",
     "text": [
      "计算得到的平移向量\n",
      "[[2.        ]\n",
      " [0.04289322]\n",
      " [0.        ]]\n",
      "真实平移向量\n",
      "[[2]\n",
      " [0]\n",
      " [0]]\n"
     ]
    }
   ],
   "source": [
    "t = q_centroid - np.dot(R, p_centroid)\n",
    "print(\"计算得到的平移向量\")\n",
    "print(t)\n",
    "print(\"真实平移向量\")\n",
    "print(real_t)"
   ]
  },
  {
   "cell_type": "code",
   "execution_count": 9,
   "metadata": {},
   "outputs": [],
   "source": [
    "# 1. 计算结果和真实值还是有差距的，应该是由于浮点数的计算误差所导致的\n",
    "# 2. 使用列矩阵 真的 很好，比如计算R*P, R是3x3, P是3x4， 可以直接np.dot(R,P)得到一个3x4的矩阵，每一列表示一个点"
   ]
  },
  {
   "cell_type": "code",
   "execution_count": null,
   "metadata": {},
   "outputs": [],
   "source": []
  }
 ],
 "metadata": {
  "kernelspec": {
   "display_name": "Python 3",
   "language": "python",
   "name": "python3"
  },
  "language_info": {
   "codemirror_mode": {
    "name": "ipython",
    "version": 3
   },
   "file_extension": ".py",
   "mimetype": "text/x-python",
   "name": "python",
   "nbconvert_exporter": "python",
   "pygments_lexer": "ipython3",
   "version": "3.6.4"
  }
 },
 "nbformat": 4,
 "nbformat_minor": 2
}
